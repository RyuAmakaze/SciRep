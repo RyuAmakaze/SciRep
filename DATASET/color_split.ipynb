{
 "cells": [
  {
   "cell_type": "code",
   "execution_count": 1,
   "metadata": {},
   "outputs": [],
   "source": [
    "#正解アノテーションに従って画像を再度作り直す\n",
    "#red = (213, 0, 0), blue = (63, 81, 181), yellow = (228, 196, 65), orange = (239, 108, 0), pink = (230, 124, 115)\n",
    "color_folders = [\"red\", \"blue\", \"yellow\", \"orange\", \"pink\", \"white\"]\n",
    "WHITE_DELETE_RATIO = 0.4\n",
    "\n",
    "\n",
    "import cv2\n",
    "import numpy as np\n",
    "from collections import Counter\n",
    "\n",
    "def ImgToClassID(image_path):\n",
    "\n",
    "    # 画像の読み込み\n",
    "    image = cv2.imread(image_path)\n",
    "\n",
    "    # BGR形式からRGB形式に変換\n",
    "    image_rgb = cv2.cvtColor(image, cv2.COLOR_BGR2RGB)\n",
    "\n",
    "    # 画像を1次元に平坦化\n",
    "    flattened_image = image_rgb.reshape((-1, 3))\n",
    "\n",
    "    # 各ピクセルのRGB値をタプルに変換\n",
    "    pixel_colors = [tuple(pixel) for pixel in flattened_image]\n",
    "\n",
    "    # 色の出現回数を数える\n",
    "    color_counts = Counter(pixel_colors)\n",
    "\n",
    "    # 最も出現回数が多い色を取得\n",
    "    most_common_color = color_counts.most_common(1)[0][0]\n",
    "\n",
    "    if(most_common_color==(213, 0, 0)):\n",
    "        class_id = 0\n",
    "    elif(most_common_color==(63, 81, 181)):\n",
    "        class_id = 1\n",
    "    elif(most_common_color==(228, 196, 65)):\n",
    "        class_id = 2\n",
    "    elif(most_common_color==(239, 108, 0)):\n",
    "        class_id = 3\n",
    "    elif(most_common_color==(230, 124, 115)):\n",
    "        class_id = 4\n",
    "    elif(most_common_color==(255, 255, 255)):\n",
    "        class_id = 5\n",
    "    else:\n",
    "        class_id = 6\n",
    "        \n",
    "    return class_id\n",
    "\n",
    "\n"
   ]
  },
  {
   "attachments": {},
   "cell_type": "markdown",
   "metadata": {},
   "source": [
    "Main"
   ]
  },
  {
   "cell_type": "code",
   "execution_count": 3,
   "metadata": {},
   "outputs": [
    {
     "name": "stderr",
     "output_type": "stream",
     "text": [
      "  0%|          | 0/3715 [00:00<?, ?it/s]"
     ]
    },
    {
     "name": "stderr",
     "output_type": "stream",
     "text": [
      "100%|██████████| 3715/3715 [00:14<00:00, 248.24it/s]\n",
      "100%|██████████| 3926/3926 [00:15<00:00, 247.59it/s]\n",
      "100%|██████████| 3897/3897 [00:15<00:00, 246.42it/s]\n",
      "100%|██████████| 1749/1749 [00:07<00:00, 246.56it/s]\n",
      "100%|██████████| 2269/2269 [00:09<00:00, 249.54it/s]\n",
      "100%|██████████| 4117/4117 [00:16<00:00, 246.95it/s]\n"
     ]
    }
   ],
   "source": [
    "from glob import glob\n",
    "from tqdm import tqdm\n",
    "import os\n",
    "import shutil\n",
    "\n",
    "if(os.path.exists(\"color_split\")==False):\n",
    "    os.mkdir(\"color_split\")\n",
    "    for fol in color_folders:\n",
    "        os.mkdir(os.path.join(\"color_split\",fol))\n",
    "\n",
    "folders = glob(\"./mask/*\")\n",
    "for folder in folders:\n",
    "    files = glob(os.path.join(folder, \"*.png\"))\n",
    "    for file in tqdm(files):\n",
    "        id = ImgToClassID(file)\n",
    "        original_file = file.replace(\"mask\",\"image\")\n",
    "        try:\n",
    "            shutil.copy(original_file, os.path.join(\"color_split\", color_folders[id], os.path.basename(file)))\n",
    "        except:\n",
    "            pass\n",
    "        \n"
   ]
  },
  {
   "cell_type": "code",
   "execution_count": null,
   "metadata": {},
   "outputs": [],
   "source": []
  }
 ],
 "metadata": {
  "kernelspec": {
   "display_name": "cell",
   "language": "python",
   "name": "python3"
  },
  "language_info": {
   "codemirror_mode": {
    "name": "ipython",
    "version": 3
   },
   "file_extension": ".py",
   "mimetype": "text/x-python",
   "name": "python",
   "nbconvert_exporter": "python",
   "pygments_lexer": "ipython3",
   "version": "3.7.13"
  },
  "orig_nbformat": 4
 },
 "nbformat": 4,
 "nbformat_minor": 2
}

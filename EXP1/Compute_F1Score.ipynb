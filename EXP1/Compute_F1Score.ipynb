{
 "cells": [
  {
   "attachments": {},
   "cell_type": "markdown",
   "metadata": {},
   "source": [
    "mask.npyを読み込んでセグメンテーションの評価を行う"
   ]
  },
  {
   "cell_type": "code",
   "execution_count": 15,
   "metadata": {},
   "outputs": [
    {
     "name": "stdout",
     "output_type": "stream",
     "text": [
      "(256, 256)\n",
      "[ 0  1  2  3  4  5  6  7  8  9 10 11 12 13 14 15 16 17 18 19]\n",
      "(19, 256, 256)\n"
     ]
    }
   ],
   "source": [
    "#関数定義\n",
    "import os, sys\n",
    "import numpy as np\n",
    "\n",
    "def obj_detection(mask, class_id:int):\n",
    "    \"\"\"\n",
    "    Input:\n",
    "        mask : [width, height](ndarray), image data\n",
    "        class_id : int , class id(ex : 1day -> 1)\n",
    "    Return:\n",
    "        mask : [object num(int), width(int), height(int)]\n",
    "        cls_idxs : [nobject num(int)]\n",
    "    \"\"\"\n",
    "    data = mask\n",
    "    labels = []\n",
    "    for label in np.unique(data):\n",
    "        #: ラベルID==0は背景\n",
    "        if label == 0:\n",
    "            continue\n",
    "        else:\n",
    "            labels.append(label)\n",
    "\n",
    "    if len(labels) == 0:\n",
    "        #: 対象オブジェクトがない場合はNone\n",
    "        return None, None\n",
    "    else:\n",
    "        mask = np.zeros((mask.shape)+(len(labels),), dtype=np.uint8)\n",
    "        for n, label in enumerate(labels):\n",
    "            mask[:, :, n] = np.uint8(data == label)\n",
    "        cls_idxs = np.ones([mask.shape[-1]], dtype=np.int32) * class_id\n",
    "\n",
    "        return mask.transpose(2, 0 ,1), cls_idxs"
   ]
  },
  {
   "cell_type": "code",
   "execution_count": 22,
   "metadata": {},
   "outputs": [
    {
     "name": "stdout",
     "output_type": "stream",
     "text": [
      "(256, 256)\n",
      "[ 0  1  2  3  4  5  6  7  8  9 10 11 12 13 14 15 16 17 18 19 20 21 22 23\n",
      " 24 25 26 27 28 29 30 31 32 33 34]\n",
      "(256, 256)\n",
      "[ 0  1  2  3  4  5  6  7  8  9 10 11 12 13 14 15 16 17 18 19 20 21 22 23\n",
      " 24 25 26 27 28 29 30 31 32]\n",
      "(34, 256, 256)\n",
      "(32, 256, 256)\n"
     ]
    },
    {
     "data": {
      "image/png": "[encoded data removed]",
      "text/plain": [
       "<Figure size 288x288 with 1 Axes>"
      ]
     },
     "metadata": {
      "needs_background": "light"
     },
     "output_type": "display_data"
    },
    {
     "data": {
      "image/png": "[encoded data removed]",
      "text/plain": [
       "<Figure size 288x288 with 1 Axes>"
      ]
     },
     "metadata": {
      "needs_background": "light"
     },
     "output_type": "display_data"
    }
   ],
   "source": [
    "INF_PATH = \"./Inference.npy\"\n",
    "TRUE_PATH = \"./GroundTrue.npy\"\n",
    "\n",
    "inf_mask = np.load(INF_PATH)\n",
    "print(inf_mask.shape)\n",
    "print(np.unique(inf_mask))\n",
    "\n",
    "true_mask = np.load(TRUE_PATH)\n",
    "print(true_mask.shape)\n",
    "print(np.unique(true_mask))\n",
    "\n",
    "import matplotlib.pyplot as plt\n",
    "plt.matshow(inf_mask)\n",
    "plt.matshow(true_mask)\n",
    "\n",
    "inf_masks, _ = obj_detection(inf_mask, 1)\n",
    "true_masks, _ = obj_detection(true_mask, 1)\n",
    "print(inf_masks.shape)\n",
    "print(true_masks.shape)\n",
    "\n"
   ]
  },
  {
   "cell_type": "code",
   "execution_count": 26,
   "metadata": {},
   "outputs": [
    {
     "name": "stderr",
     "output_type": "stream",
     "text": [
      "/a/yu-yamaoka/anaconda3/envs/cell/lib/python3.7/site-packages/sklearn/metrics/_classification.py:1318: UndefinedMetricWarning: Precision and F-score are ill-defined and being set to 0.0 due to no predicted samples. Use `zero_division` parameter to control this behavior.\n",
      "  _warn_prf(average, modifier, msg_start, len(result))\n",
      "/a/yu-yamaoka/anaconda3/envs/cell/lib/python3.7/site-packages/sklearn/metrics/_classification.py:1318: UndefinedMetricWarning: Precision and F-score are ill-defined and being set to 0.0 due to no predicted samples. Use `zero_division` parameter to control this behavior.\n",
      "  _warn_prf(average, modifier, msg_start, len(result))\n",
      "/a/yu-yamaoka/anaconda3/envs/cell/lib/python3.7/site-packages/sklearn/metrics/_classification.py:1318: UndefinedMetricWarning: Precision and F-score are ill-defined and being set to 0.0 due to no predicted samples. Use `zero_division` parameter to control this behavior.\n",
      "  _warn_prf(average, modifier, msg_start, len(result))\n"
     ]
    },
    {
     "name": "stdout",
     "output_type": "stream",
     "text": [
      "F1 Score: 0.9117647058823529\n"
     ]
    }
   ],
   "source": [
    "import numpy as np\n",
    "from sklearn.metrics import precision_recall_fscore_support\n",
    "\n",
    "def calculate_iou(mask1, mask2):\n",
    "    \"\"\"\n",
    "    Calculate Intersection over Union (IoU) between two masks.\n",
    "\n",
    "    Parameters:\n",
    "    - mask1, mask2: Binary masks to calculate IoU.\n",
    "\n",
    "    Returns:\n",
    "    - IoU value.\n",
    "    \"\"\"\n",
    "    intersection = np.logical_and(mask1, mask2)\n",
    "    union = np.logical_or(mask1, mask2)\n",
    "    iou = np.sum(intersection) / np.sum(union)\n",
    "    return iou\n",
    "\n",
    "def calculate_f1_score(inf_masks, true_masks, iou_threshold=0.5):\n",
    "    \"\"\"\n",
    "    Calculate F1 score based on IoU matching between inference masks and true masks.\n",
    "\n",
    "    Parameters:\n",
    "    - inf_masks: Inference masks.\n",
    "    - true_masks: True masks.\n",
    "    - iou_threshold: IoU threshold for considering a match.\n",
    "\n",
    "    Returns:\n",
    "    - Average F1 score.\n",
    "    \"\"\"\n",
    "    def find_best_iou_match(inf_mask, true_masks, iou_threshold):\n",
    "        \"\"\"\n",
    "        Find the best IoU match for a given inference mask among true masks.\n",
    "\n",
    "        Parameters:\n",
    "        - inf_mask: Inference mask.\n",
    "        - true_masks: List of true masks.\n",
    "        - iou_threshold: IoU threshold for considering a match.\n",
    "\n",
    "        Returns:\n",
    "        - True if a match is found, False otherwise.\n",
    "        \"\"\"\n",
    "        best_iou = 0\n",
    "        for true_mask in true_masks:\n",
    "            iou = calculate_iou(inf_mask, true_mask)\n",
    "            best_iou = max(best_iou, iou)\n",
    "        return best_iou >= iou_threshold\n",
    "\n",
    "    f1_scores = []\n",
    "\n",
    "    for inf_mask in inf_masks:\n",
    "        matching_indices = [find_best_iou_match(inf_mask, true_masks, iou_threshold)]\n",
    "        precision, recall, f1, _ = precision_recall_fscore_support(np.array([True]), np.array(matching_indices), average='binary')\n",
    "        f1_scores.append(f1)\n",
    "\n",
    "    average_f1 = np.mean(f1_scores)\n",
    "\n",
    "    return average_f1\n",
    "\n",
    "# Example: Calculate F1 score with IOU threshold 0.5\n",
    "f1_score = calculate_f1_score(inf_masks, true_masks, iou_threshold=0.5)\n",
    "print(\"F1 Score:\", f1_score)\n"
   ]
  },
  {
   "cell_type": "code",
   "execution_count": null,
   "metadata": {},
   "outputs": [],
   "source": []
  }
 ],
 "metadata": {
  "kernelspec": {
   "display_name": "cell",
   "language": "python",
   "name": "python3"
  },
  "language_info": {
   "codemirror_mode": {
    "name": "ipython",
    "version": 3
   },
   "file_extension": ".py",
   "mimetype": "text/x-python",
   "name": "python",
   "nbconvert_exporter": "python",
   "pygments_lexer": "ipython3",
   "version": "3.7.13"
  },
  "orig_nbformat": 4
 },
 "nbformat": 4,
 "nbformat_minor": 2
}

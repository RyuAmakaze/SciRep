{
 "cells": [
  {
   "cell_type": "code",
   "execution_count": 7,
   "metadata": {},
   "outputs": [
    {
     "name": "stderr",
     "output_type": "stream",
     "text": [
      "100%|██████████| 35/35 [00:43<00:00,  1.23s/it]\n"
     ]
    }
   ],
   "source": [
    "import os, sys\n",
    "from cellpose import utils, io, models\n",
    "from tqdm import tqdm\n",
    "\n",
    "in_path = \"/a/yu-yamaoka/data/valid_rawdata_256_tiff/11day/image\"\n",
    "out_path = \"./EXPERIENCE1/Valid_output_MyoSothes/11day/\"\n",
    "use_gpu = True\n",
    "model_path =  \"./Cellpose_retrained_model/CP_20220420_140301\" #\"../tuning_model/yamaoka0428_3\" #or model name for default models\n",
    "channels = [[3,0]] #0 for gray, 1 for red, 2 for green, 3 for blue\n",
    "diameter = 30\n",
    "flow_threshold = 0.5\n",
    "resample =  True\n",
    "\n",
    "if(os.path.exists(out_path)==False):\n",
    "    os.mkdir(out_path)\n",
    "\n",
    "# Loads model\n",
    "model = models.CellposeModel(gpu=use_gpu, pretrained_model=model_path)   \n",
    "\n",
    "#For each tile of image to be segmented\n",
    "for tile in tqdm(os.listdir(in_path)):\n",
    "    #print(\"Cellpose will start for image \", format(tile))\n",
    "\timg = io.imread(in_path + \"/\" + tile)\n",
    "\n",
    "\t# Computes segmentations\n",
    "\tmasks, flows, styles = model.eval(img, diameter=diameter, flow_threshold=flow_threshold, resample=resample, channels=channels)\n",
    "\n",
    "\t# Save results as png\n",
    "\tio.save_masks(img, masks, flows, tile, savedir=out_path)"
   ]
  },
  {
   "cell_type": "code",
   "execution_count": 7,
   "metadata": {},
   "outputs": [
    {
     "name": "stderr",
     "output_type": "stream",
     "text": [
      "100%|██████████| 187/187 [02:13<00:00,  1.40it/s]\n",
      " 43%|████▎     | 71/165 [00:52<01:02,  1.50it/s]WARNING: no mask pixels found\n",
      "100%|██████████| 165/165 [02:01<00:00,  1.35it/s]\n"
     ]
    }
   ],
   "source": [
    "\n",
    "import os, sys\n",
    "from cellpose import utils, io, models\n",
    "from tqdm import tqdm\n",
    "import numpy as np\n",
    "\n",
    "days = [\"0day\", \"3day\", \"5day\", \"7day\", \"11day\", \"14day\"]\n",
    "#days = [\"11day\", \"14day\"]\n",
    "\n",
    "for day in days:\n",
    "    in_path = \"/a/yu-yamaoka/data/valid_rawdata_256_tiff/\" + day + \"/image\"\n",
    "    out_path = \"./EXPERIENCE1/Valid_output_MyoSothes/\" + day\n",
    "    use_gpu = True\n",
    "    \n",
    "    #model_path =  \"../tuning_model/CP_20231201_111120_Ours4\"#/ #\"\" #.\"../tuning_model/yamaoka0428_3\" #or model name for default models\n",
    "    model_path = \"Cellpose_retrained_model/CP_20220420_140301\"\n",
    "    \n",
    "    channels = [[3,0]] #0 for gray, 1 for red, 2 for green, 3 for blue\n",
    "    diameter = 30\n",
    "    flow_threshold = 0.5\n",
    "    resample =  True\n",
    "\n",
    "    if(os.path.exists(out_path)==False):\n",
    "        os.mkdir(out_path)\n",
    "\n",
    "    # Loads model\n",
    "    model = models.CellposeModel(gpu=use_gpu, pretrained_model=model_path)   \n",
    "\n",
    "    #For each tile of image to be segmented\n",
    "    for tile in tqdm(os.listdir(in_path)):\n",
    "        #print(\"Cellpose will start for image \", format(tile))\n",
    "        img = io.imread(in_path + \"/\" + tile)\n",
    "\n",
    "        # Computes segmentations\n",
    "        masks, flows, styles = model.eval(img, diameter=diameter, flow_threshold=flow_threshold, resample=resample, channels=channels)\n",
    "\n",
    "        # Save results as png\n",
    "        io.save_masks(img, masks, flows, tile, savedir=out_path)\n",
    "        np.save(os.path.join(out_path, tile),  masks)"
   ]
  },
  {
   "cell_type": "code",
   "execution_count": null,
   "metadata": {},
   "outputs": [],
   "source": []
  }
 ],
 "metadata": {
  "kernelspec": {
   "display_name": "cell",
   "language": "python",
   "name": "python3"
  },
  "language_info": {
   "codemirror_mode": {
    "name": "ipython",
    "version": 3
   },
   "file_extension": ".py",
   "mimetype": "text/x-python",
   "name": "python",
   "nbconvert_exporter": "python",
   "pygments_lexer": "ipython3",
   "version": "3.7.13"
  },
  "orig_nbformat": 4
 },
 "nbformat": 4,
 "nbformat_minor": 2
}

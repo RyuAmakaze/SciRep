{
 "cells": [
  {
   "attachments": {},
   "cell_type": "markdown",
   "metadata": {},
   "source": [
    "NPYファイルを読み込みRVMで線形補間<br>\n",
    "PTHファイルを読み込みNPYに"
   ]
  },
  {
   "cell_type": "code",
   "execution_count": 1,
   "metadata": {},
   "outputs": [
    {
     "name": "stdout",
     "output_type": "stream",
     "text": [
      "(643205, 768)\n"
     ]
    }
   ],
   "source": [
    "import numpy as np\n",
    "import os\n",
    "import torch\n",
    "\n",
    "#DINOの出力PATH\n",
    "DATASET_PATH = \"Crop_Data/256_TRAIN_ver1/TEST256_tuning40_Crop64/Integrated10\"\n",
    "\n",
    "feature_data_pth = torch.load(os.path.join(DATASET_PATH, \"trainfeat.pth\"))\n",
    "label_data_pth = torch.load(os.path.join(DATASET_PATH, \"trainlabels.pth\"))\n",
    "np.save(os.path.join(DATASET_PATH, \"trainfeat.npy\"), feature_data_pth)\n",
    "np.save(os.path.join(DATASET_PATH, \"trainlabels.npy\"), label_data_pth)\n",
    "\n",
    "feature_data_npy = np.load(os.path.join(DATASET_PATH, \"trainfeat.npy\"))\n",
    "label_data_npy = np.load(os.path.join(DATASET_PATH, \"trainlabels.npy\"))\n",
    "\n",
    "print(feature_data_npy.shape)"
   ]
  },
  {
   "attachments": {},
   "cell_type": "markdown",
   "metadata": {},
   "source": [
    "SVR学習"
   ]
  },
  {
   "cell_type": "code",
   "execution_count": 3,
   "metadata": {},
   "outputs": [
    {
     "data": {
      "application/vnd.jupyter.widget-view+json": {
       "model_id": "7ad60a6a69b94136b9dcb1ff779728ee",
       "version_major": 2,
       "version_minor": 0
      },
      "text/plain": [
       "Training:   0%|          | 0/100 [00:00<?, ?it/s]"
      ]
     },
     "metadata": {},
     "output_type": "display_data"
    }
   ],
   "source": [
    "# 必要なライブラリをインポートする\n",
    "from sklearn.svm import SVR\n",
    "from sklearn.model_selection import train_test_split\n",
    "from sklearn.metrics import mean_squared_error\n",
    "from sklearn.preprocessing import StandardScaler\n",
    "from tqdm import notebook\n",
    "\n",
    "# データを読み込む\n",
    "feature_data_npy = np.load(os.path.join(DATASET_PATH, \"trainfeat.npy\"))\n",
    "label_data_npy = np.load(os.path.join(DATASET_PATH, \"trainlabels.npy\"))\n",
    "\n",
    "# データを正規化する（重要な前処理手順）\n",
    "scaler = StandardScaler()\n",
    "feature_data_npy = scaler.fit_transform(feature_data_npy)\n",
    "\n",
    "# 訓練データとテストデータに分割する\n",
    "X_train, X_test, y_train, y_test = train_test_split(feature_data_npy, label_data_npy, test_size=0.2, random_state=42)\n",
    "\n",
    "# SVRモデルを作成する\n",
    "svr_model = SVR(kernel='rbf', C=1.0, epsilon=0.1)\n",
    "\n",
    "# プログレスバーを表示しながらモデルを訓練する\n",
    "num_epochs = 100\n",
    "for epoch in notebook.tqdm(range(num_epochs), desc=\"Training\"):\n",
    "    svr_model.fit(X_train, y_train)\n",
    "    \n",
    "# テストデータでモデルを評価する\n",
    "predictions = svr_model.predict(X_test)\n",
    "mse = mean_squared_error(y_test, predictions)\n",
    "print(\"Mean Squared Error:\", mse)"
   ]
  },
  {
   "cell_type": "code",
   "execution_count": null,
   "metadata": {},
   "outputs": [],
   "source": []
  }
 ],
 "metadata": {
  "kernelspec": {
   "display_name": "cell",
   "language": "python",
   "name": "python3"
  },
  "language_info": {
   "codemirror_mode": {
    "name": "ipython",
    "version": 3
   },
   "file_extension": ".py",
   "mimetype": "text/x-python",
   "name": "python",
   "nbconvert_exporter": "python",
   "pygments_lexer": "ipython3",
   "version": "3.7.13"
  },
  "orig_nbformat": 4
 },
 "nbformat": 4,
 "nbformat_minor": 2
}

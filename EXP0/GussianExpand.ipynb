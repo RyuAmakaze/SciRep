{
 "cells": [
  {
   "attachments": {},
   "cell_type": "markdown",
   "metadata": {},
   "source": [
    "ガウス展開法の検証(０が反映されていない？)"
   ]
  },
  {
   "cell_type": "code",
   "execution_count": 17,
   "metadata": {},
   "outputs": [],
   "source": [
    "import torch.nn as nn\n",
    "import torch\n",
    "import numpy as np\n",
    "class GaussianHistogram(nn.Module):\n",
    "    def __init__(self, bins, min, max, sigma):\n",
    "        super(GaussianHistogram, self).__init__()\n",
    "        self.bins = bins\n",
    "        self.min = min\n",
    "        self.max = max\n",
    "        self.sigma = sigma\n",
    "        self.delta = float(max - min) / float(bins)\n",
    "        self.centers = float(min) + self.delta * (torch.arange(bins).float() + 0.5)\n",
    "\n",
    "    def forward(self, x):\n",
    "        x = torch.unsqueeze(x, 0) - torch.unsqueeze(self.centers, 1)\n",
    "        x = torch.exp(-0.5*(x/self.sigma)**2) / (self.sigma * np.sqrt(np.pi*2)) * self.delta\n",
    "        x = x.sum(dim=1)\n",
    "        return x\n",
    "    \n",
    "DayProp = [\n",
    "    [1, 0, 0, 0],#day0(red, blue, yellow, orange)\n",
    "    [0, 0.5, 0.5, 0],#day3\n",
    "    [0, 0.06, 0.28, 0.66],#day5\n",
    "    [0.07, 0.04, 0.06, 0.83]#day7\n",
    "]\n",
    "\n",
    "#クラス距離の定義\n",
    "ClassDiver = [\n",
    "    [1,   2/3,  0,  2/3], #red-red, red-blue, red-yellow, red-orange\n",
    "    [2/3,  1,   0,  1/3], #blue-red, blue-blue, blue-yellow, blue-orange\n",
    "    [1,    0,   1,  1/3], #yellow-red, yellow-blue, yellow-yellow, yellow-orange\n",
    "    [2/3, 1/3, 1/3,  1 ]  #orange-red, orange-blue, orange-yellow, orange-orange\n",
    "]\n",
    "\n",
    "#class同士のsimを返す\n",
    "def Class_Divergence(classA, classB):\n",
    "    return ClassDiver[classA][classB]     \n",
    "\n",
    "#クラス同士のsimの数を格納した配列をdatalen長で返す\n",
    "def DayCombo_to_FeatNumData(dayA, dayB, datalen):\n",
    "    data = torch.zeros(datalen)\n",
    "    data_itr = 0\n",
    "    for clsA, propA in enumerate(DayProp[dayA]):\n",
    "        for clsB, propB in enumerate(DayProp[dayB]):\n",
    "            add_data_num = int(propA * propB * datalen)\n",
    "            data[data_itr:add_data_num] = Class_Divergence(clsA, clsB)\n",
    "            data_itr += add_data_num     \n",
    "    return data"
   ]
  },
  {
   "cell_type": "code",
   "execution_count": 29,
   "metadata": {},
   "outputs": [
    {
     "name": "stdout",
     "output_type": "stream",
     "text": [
      "tensor([0.6667, 0.6667, 0.6667, 0.6667, 0.6667, 0.6667, 0.6667, 0.6667, 0.6667,\n",
      "        0.6667, 0.6667, 0.6667, 0.6667, 0.6667, 0.6667, 0.6667, 0.6667, 0.6667,\n",
      "        0.6667, 0.6667, 0.6667, 0.6667, 0.6667, 0.6667, 0.6667, 0.6667, 0.6667,\n",
      "        0.6667, 0.6667, 0.6667, 0.6667, 0.6667, 0.6667, 0.6667, 0.6667, 0.6667,\n",
      "        0.6667, 0.6667, 0.6667, 0.6667, 0.6667, 0.6667, 0.6667, 0.6667, 0.6667,\n",
      "        0.6667, 0.6667, 0.6667, 0.6667, 0.6667])\n",
      "torch.Size([50])\n"
     ]
    },
    {
     "data": {
      "text/plain": [
       "(0.0, 1.0)"
      ]
     },
     "execution_count": 29,
     "metadata": {},
     "output_type": "execute_result"
    },
    {
     "data": {
      "image/png": "[encoded data removed]",
      "text/plain": [
       "<Figure size 864x504 with 2 Axes>"
      ]
     },
     "metadata": {
      "needs_background": "light"
     },
     "output_type": "display_data"
    }
   ],
   "source": [
    "data = DayCombo_to_FeatNumData(1, 0, 50)\n",
    "print(data)\n",
    "bins = 6\n",
    "\n",
    "import matplotlib.pyplot as plt\n",
    "print(data.shape)\n",
    "a = GaussianHistogram(bins=bins, min=0, max=1, sigma=0.01)(data)\n",
    "b = torch.histc(data, bins=bins, min=0, max=1)\n",
    "\n",
    "plt.figure(figsize=(12, 7))\n",
    "plt.subplot(1, 2, 1)\n",
    "plt.bar(torch.linspace(0, 1, bins+1)[:-1], a, width=1/bins, align='edge')\n",
    "plt.title('GaussianHistogram')\n",
    "plt.xlabel('cos_sim')\n",
    "plt.ylabel('Counts')\n",
    "plt.xlim(0, 1)\n",
    "\n",
    "plt.subplot(1, 2, 2)\n",
    "plt.bar(torch.linspace(0, 1, bins+1)[:-1], b, width=1/bins, align='edge')\n",
    "plt.title('torch.histc')\n",
    "plt.xlabel('cos_sim')\n",
    "plt.ylabel('Counts')\n",
    "plt.xlim(0, 1)"
   ]
  },
  {
   "cell_type": "code",
   "execution_count": null,
   "metadata": {},
   "outputs": [],
   "source": []
  }
 ],
 "metadata": {
  "kernelspec": {
   "display_name": "cell",
   "language": "python",
   "name": "python3"
  },
  "language_info": {
   "codemirror_mode": {
    "name": "ipython",
    "version": 3
   },
   "file_extension": ".py",
   "mimetype": "text/x-python",
   "name": "python",
   "nbconvert_exporter": "python",
   "pygments_lexer": "ipython3",
   "version": "3.7.13"
  },
  "orig_nbformat": 4
 },
 "nbformat": 4,
 "nbformat_minor": 2
}
